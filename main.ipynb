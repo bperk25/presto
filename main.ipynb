{
 "cells": [
  {
   "cell_type": "markdown",
   "id": "5555ff5a-00c6-4659-b871-b998ae12ffa1",
   "metadata": {},
   "source": [
    "### Import necessary libraries"
   ]
  },
  {
   "cell_type": "code",
   "execution_count": 27,
   "id": "a8d6d632-29db-4fef-b9e0-4f9d1edd5db9",
   "metadata": {},
   "outputs": [
    {
     "name": "stdout",
     "output_type": "stream",
     "text": [
      "The autoreload extension is already loaded. To reload it, use:\n",
      "  %reload_ext autoreload\n"
     ]
    }
   ],
   "source": [
    "# Setup\n",
    "import preprocess\n",
    "import interpret\n",
    "import annotate\n",
    "import musics\n",
    "import cv2\n",
    "\n",
    "%matplotlib inline\n",
    "plt.rcParams['figure.figsize'] = (15.0, 12.0) # set default size of plots\n",
    "plt.rcParams['image.interpolation'] = 'nearest'\n",
    "plt.rcParams['image.cmap'] = 'gray'\n",
    "\n",
    "# for auto-reloading extenrnal modules\n",
    "%load_ext autoreload\n",
    "%autoreload 2"
   ]
  },
  {
   "cell_type": "markdown",
   "id": "540acfc2-8e2c-4e97-8a89-227ab5df85c9",
   "metadata": {},
   "source": [
    "### Intialize global variables"
   ]
  },
  {
   "cell_type": "code",
   "execution_count": 2,
   "id": "9f4dad0c-18c3-4b7c-9fd8-86455e333550",
   "metadata": {},
   "outputs": [],
   "source": [
    "# image file to process\n",
    "input_file = 'sheet_music/Somebody_to_love.png'\n",
    "# TODO accept pdfs? or at least throw error if not an image\n",
    "\n",
    "# TODO bryant format this however you want -- just initialize file and notes data structures so we can pass them as params in the diff funcs\n",
    "notes = dict()  # dictionary of {int noteID num : Note class instance}\n",
    "\n",
    "key_signtaure = \"C\"  "
   ]
  },
  {
   "cell_type": "markdown",
   "id": "cc214493-24fd-4f5c-9b20-6d20a8a42d69",
   "metadata": {},
   "source": [
    "### Preprocess image\n",
    "Filter image, find staff lines and notes, gather useful data from image"
   ]
  },
  {
   "cell_type": "code",
   "execution_count": null,
   "id": "59f34a2d-2d43-4ba4-b81a-9faf034a8b11",
   "metadata": {},
   "outputs": [],
   "source": [
    "# reads input file as a numpy image\n",
    "# returns grayscale version of image, and guassian blurred image\n",
    "img, smoothed = preprocess.filter_img(input_file)\n",
    "\n",
    "# TODO bryant identify staff lines\n",
    "# TODO bryant take staff lines out of image\n",
    "\n",
    "# Finds blobs of notes in image\n",
    "blobs = preprocess.find_blobs(smoothed, display=True)\n",
    "\n",
    "# crop all blobs to images of individual notes\n",
    "# return list of cropped images\n",
    "cropped_notes = preprocess.get_cropped_notes(blobs, img, save=False)"
   ]
  },
  {
   "cell_type": "markdown",
   "id": "0e026f00-58d7-4c96-8afc-69a2bd597f5b",
   "metadata": {},
   "source": [
    "### Interpret\n",
    "Interpret gathered staff and note data, turning positional pixel data into musical notation"
   ]
  },
  {
   "cell_type": "code",
   "execution_count": null,
   "id": "bf81933d-a814-4434-bab1-740fb553b0f7",
   "metadata": {},
   "outputs": [],
   "source": [
    "# TODO call interpret funcs"
   ]
  },
  {
   "cell_type": "markdown",
   "id": "862d673b-b661-4412-9adf-eadc05510c45",
   "metadata": {},
   "source": [
    "### Annotate\n",
    "Annotate the original image file with interpreted note letters, giving the user back an annotated file and MIDI audio file to practice with"
   ]
  },
  {
   "cell_type": "code",
   "execution_count": null,
   "id": "ed797a11-a1fd-4f58-8a3e-b779b73f6720",
   "metadata": {},
   "outputs": [],
   "source": [
    "# TODO call annotate funcs"
   ]
  },
  {
   "cell_type": "code",
   "execution_count": null,
   "id": "d9f537d5-d773-4cad-b7b4-f9cd0b355348",
   "metadata": {},
   "outputs": [],
   "source": []
  }
 ],
 "metadata": {
  "kernelspec": {
   "display_name": "Python 3 (ipykernel)",
   "language": "python",
   "name": "python3"
  },
  "language_info": {
   "codemirror_mode": {
    "name": "ipython",
    "version": 3
   },
   "file_extension": ".py",
   "mimetype": "text/x-python",
   "name": "python",
   "nbconvert_exporter": "python",
   "pygments_lexer": "ipython3",
   "version": "3.8.18"
  }
 },
 "nbformat": 4,
 "nbformat_minor": 5
}
