{
 "cells": [
  {
   "cell_type": "markdown",
   "id": "5555ff5a-00c6-4659-b871-b998ae12ffa1",
   "metadata": {},
   "source": [
    "### Import necessary libraries"
   ]
  },
  {
   "cell_type": "code",
   "execution_count": 99,
   "id": "a8d6d632-29db-4fef-b9e0-4f9d1edd5db9",
   "metadata": {},
   "outputs": [
    {
     "name": "stdout",
     "output_type": "stream",
     "text": [
      "The autoreload extension is already loaded. To reload it, use:\n",
      "  %reload_ext autoreload\n"
     ]
    }
   ],
   "source": [
    "# Setup\n",
    "import preprocess\n",
    "import interpret\n",
    "import annotate\n",
    "import musics\n",
    "import matplotlib.pyplot as plt\n",
    "import cv2\n",
    "\n",
    "%matplotlib inline\n",
    "plt.rcParams['figure.figsize'] = (25.0, 20.0) # set default size of plots\n",
    "plt.rcParams['image.interpolation'] = 'nearest'\n",
    "plt.rcParams['image.cmap'] = 'gray'\n",
    "\n",
    "# for auto-reloading extenrnal modules\n",
    "%load_ext autoreload\n",
    "%autoreload 2"
   ]
  },
  {
   "cell_type": "markdown",
   "id": "540acfc2-8e2c-4e97-8a89-227ab5df85c9",
   "metadata": {},
   "source": [
    "### Intialize global variables"
   ]
  },
  {
   "cell_type": "code",
   "execution_count": 151,
   "id": "9f4dad0c-18c3-4b7c-9fd8-86455e333550",
   "metadata": {},
   "outputs": [],
   "source": [
    "# image file to process\n",
    "input_file = 'sheet_music/Mary_Had_A_Little_Lamb.png'\n",
    "# TODO accept pdfs? or at least throw error if not an image\n",
    "\n",
    "# TODO bryant format this however you want -- just initialize file and notes data structures so we can pass them as params in the diff funcs\n",
    "notes = dict()  # dictionary of {int noteID num : Note class instance}\n",
    "\n",
    "key_signtaure = \"C\"  "
   ]
  },
  {
   "cell_type": "markdown",
   "id": "cc214493-24fd-4f5c-9b20-6d20a8a42d69",
   "metadata": {},
   "source": [
    "### Preprocess image\n",
    "Filter image, find staff lines and notes, gather useful data from image"
   ]
  },
  {
   "cell_type": "code",
   "execution_count": 197,
   "id": "59f34a2d-2d43-4ba4-b81a-9faf034a8b11",
   "metadata": {},
   "outputs": [
    {
     "ename": "AttributeError",
     "evalue": "'tuple' object has no attribute 'pt'",
     "output_type": "error",
     "traceback": [
      "\u001b[0;31m---------------------------------------------------------------------------\u001b[0m",
      "\u001b[0;31mAttributeError\u001b[0m                            Traceback (most recent call last)",
      "Cell \u001b[0;32mIn[197], line 27\u001b[0m\n\u001b[1;32m     16\u001b[0m interpret\u001b[38;5;241m.\u001b[39mconfig_notes(base_lines, note_set, gap_size)\n\u001b[1;32m     17\u001b[0m \u001b[38;5;66;03m# for note in note_set:\u001b[39;00m\n\u001b[1;32m     18\u001b[0m \u001b[38;5;66;03m#     print(f\"x: {note.x}, y: {note.y}, note: {note.key}\")\u001b[39;00m\n\u001b[1;32m     19\u001b[0m \n\u001b[0;32m   (...)\u001b[0m\n\u001b[1;32m     25\u001b[0m \u001b[38;5;66;03m# crop all blobs to images of individual notes\u001b[39;00m\n\u001b[1;32m     26\u001b[0m \u001b[38;5;66;03m# return list of cropped images\u001b[39;00m\n\u001b[0;32m---> 27\u001b[0m cropped_notes \u001b[38;5;241m=\u001b[39m \u001b[43mpreprocess\u001b[49m\u001b[38;5;241;43m.\u001b[39;49m\u001b[43mget_cropped_notes\u001b[49m\u001b[43m(\u001b[49m\u001b[43mblobs\u001b[49m\u001b[43m,\u001b[49m\u001b[43m \u001b[49m\u001b[43mimg\u001b[49m\u001b[43m,\u001b[49m\u001b[43m \u001b[49m\u001b[43msave\u001b[49m\u001b[38;5;241;43m=\u001b[39;49m\u001b[38;5;28;43;01mFalse\u001b[39;49;00m\u001b[43m)\u001b[49m\n",
      "File \u001b[0;32m~/Documents/CS/CS131/FinalProject/Code/presto/preprocess.py:129\u001b[0m, in \u001b[0;36mget_cropped_notes\u001b[0;34m(blobs, full_img, save)\u001b[0m\n\u001b[1;32m    126\u001b[0m cropped_notes \u001b[38;5;241m=\u001b[39m []\n\u001b[1;32m    128\u001b[0m \u001b[38;5;28;01mfor\u001b[39;00m i, blob \u001b[38;5;129;01min\u001b[39;00m \u001b[38;5;28menumerate\u001b[39m(blobs):\n\u001b[0;32m--> 129\u001b[0m     cropped \u001b[38;5;241m=\u001b[39m \u001b[43mcrop_to_note\u001b[49m\u001b[43m(\u001b[49m\u001b[43mblob\u001b[49m\u001b[43m,\u001b[49m\u001b[43m \u001b[49m\u001b[43mfull_img\u001b[49m\u001b[43m)\u001b[49m\n\u001b[1;32m    130\u001b[0m     cropped_notes\u001b[38;5;241m.\u001b[39mappend(cropped)\n\u001b[1;32m    132\u001b[0m     \u001b[38;5;28;01mif\u001b[39;00m save:\n",
      "File \u001b[0;32m~/Documents/CS/CS131/FinalProject/Code/presto/preprocess.py:113\u001b[0m, in \u001b[0;36mcrop_to_note\u001b[0;34m(blob, full_img)\u001b[0m\n\u001b[1;32m    112\u001b[0m \u001b[38;5;28;01mdef\u001b[39;00m \u001b[38;5;21mcrop_to_note\u001b[39m(blob, full_img):\n\u001b[0;32m--> 113\u001b[0m     x, y \u001b[38;5;241m=\u001b[39m \u001b[43mblob\u001b[49m\u001b[38;5;241;43m.\u001b[39;49m\u001b[43mpt\u001b[49m\n\u001b[1;32m    114\u001b[0m     lr_space \u001b[38;5;241m=\u001b[39m blob\u001b[38;5;241m.\u001b[39msize \u001b[38;5;241m+\u001b[39m \u001b[38;5;241m5\u001b[39m  \u001b[38;5;66;03m# pixels left and right of center of blob to include\u001b[39;00m\n\u001b[1;32m    115\u001b[0m     ud_space \u001b[38;5;241m=\u001b[39m blob\u001b[38;5;241m.\u001b[39msize \u001b[38;5;241m+\u001b[39m \u001b[38;5;241m30\u001b[39m  \u001b[38;5;66;03m# pixels below and above center of blob to include\u001b[39;00m\n",
      "\u001b[0;31mAttributeError\u001b[0m: 'tuple' object has no attribute 'pt'"
     ]
    }
   ],
   "source": [
    "# reads input file as a numpy image\n",
    "# returns grayscale version of image, and guassian blurred image\n",
    "img, smoothed = preprocess.filter_img(input_file)\n",
    "\n",
    "# TODO bryant identify staff lines\n",
    "hor_lines = preprocess.horizontal_canny(img.copy())\n",
    "base_lines, gap_size = preprocess.get_base_lines(img, hor_lines)\n",
    "# TODO bryant take staff lines out of image\n",
    "\n",
    "# Finds blobs of notes in image\n",
    "blobs = preprocess.find_blobs(smoothed, display=False)\n",
    "# TEMPORARY: manually set blobs based on manually filter blobs\n",
    "#print(sorted([(b.pt[0], b.pt[1]) for b in blobs], key=lambda x: x[1]))\n",
    "temp_blobs = [(1025.40185546875, 594.2931518554688), (1185.2520751953125, 594.3023681640625), (361.25201416015625, 594.3023681640625), (234.1464080810547, 611.85546875), (1023.5, 643.8455810546875), (1101.5, 661.5), (445.5, 661.5), (1402.0347900390625, 673.3594970703125), (1118.2520751953125, 1031.3023681640625), (934.4561157226562, 1050.2825927734375), (136.1464080810547, 1068.85546875), (932.5, 1100.8455810546875), (224.5, 1100.8455810546875), (1022.5, 1117.5), (314.5, 1117.5), (1360.0347900390625, 1130.3594970703125), (652.0347900390625, 1130.3594970703125), (934.4017944335938, 1506.293212890625), (226.40182495117188, 1506.293212890625), (136.1464080810547, 1523.85546875), (1424.5, 1555.8455810546875), (932.5, 1555.8455810546875), (1016.5, 1573.5), (317.5, 1573.5), (1332.0347900390625, 1585.3594970703125), (136.1464080810547, 1980.85546875), (655.5, 2012.8455810546875), (1151.5, 2039.21875)]\n",
    "note_set = [musics.Note(b[0], b[1]) for b in temp_blobs]\n",
    "interpret.config_notes(base_lines, note_set, gap_size)\n",
    "# for note in note_set:\n",
    "#     print(f\"x: {note.x}, y: {note.y}, note: {note.key}\")\n",
    "\n",
    "# test = img.copy()\n",
    "# cv2.line(test, (0, 594), (1000, 594), (100, 100, 0), 2)\n",
    "# plt.imshow(test)\n",
    "\n",
    "\n",
    "# crop all blobs to images of individual notes\n",
    "# return list of cropped images\n",
    "cropped_notes = preprocess.get_cropped_notes(blobs, img, save=False)"
   ]
  },
  {
   "cell_type": "markdown",
   "id": "0e026f00-58d7-4c96-8afc-69a2bd597f5b",
   "metadata": {},
   "source": [
    "### Interpret\n",
    "Interpret gathered staff and note data, turning positional pixel data into musical notation"
   ]
  },
  {
   "cell_type": "code",
   "execution_count": null,
   "id": "bf81933d-a814-4434-bab1-740fb553b0f7",
   "metadata": {},
   "outputs": [],
   "source": [
    "# TODO call interpret funcs"
   ]
  },
  {
   "cell_type": "markdown",
   "id": "862d673b-b661-4412-9adf-eadc05510c45",
   "metadata": {},
   "source": [
    "### Annotate\n",
    "Annotate the original image file with interpreted note letters, giving the user back an annotated file and MIDI audio file to practice with"
   ]
  },
  {
   "cell_type": "code",
   "execution_count": null,
   "id": "ed797a11-a1fd-4f58-8a3e-b779b73f6720",
   "metadata": {},
   "outputs": [],
   "source": [
    "# TODO call annotate funcs"
   ]
  },
  {
   "cell_type": "code",
   "execution_count": null,
   "id": "d9f537d5-d773-4cad-b7b4-f9cd0b355348",
   "metadata": {},
   "outputs": [],
   "source": []
  }
 ],
 "metadata": {
  "kernelspec": {
   "display_name": "cs131",
   "language": "python",
   "name": "cs131"
  },
  "language_info": {
   "codemirror_mode": {
    "name": "ipython",
    "version": 3
   },
   "file_extension": ".py",
   "mimetype": "text/x-python",
   "name": "python",
   "nbconvert_exporter": "python",
   "pygments_lexer": "ipython3",
   "version": "3.9.6"
  }
 },
 "nbformat": 4,
 "nbformat_minor": 5
}
